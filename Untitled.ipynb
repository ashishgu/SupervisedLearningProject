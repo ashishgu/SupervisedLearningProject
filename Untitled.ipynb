{
 "cells": [
  {
   "cell_type": "markdown",
   "id": "48747f67",
   "metadata": {},
   "source": [
    "#DOMAIN: Medical•CONTEXT: Medical research university X is undergoing a deep research on patients with certain conditions. University has an internal AI team. Due  to  confidentiality  the  patient’s  details  and  the  conditions  are  masked  by  the  client  by  providing  different  datasets  to  the  AI  team  for developing a AIML model which can predict the condition of the patient depending on the received test results.•DATA  DESCRIPTION: The  data  consists  of  biomechanics  features  of  the  patients  according  to  their  current  conditions.  Each  patient  is represented in the data set by six biomechanics attributes derived from the shape and orientation of the condition to their body part. "
   ]
  },
  {
   "cell_type": "markdown",
   "id": "3e639a22",
   "metadata": {},
   "source": [
    "### Data UnderStanding"
   ]
  },
  {
   "cell_type": "code",
   "execution_count": 1,
   "id": "71647405",
   "metadata": {},
   "outputs": [],
   "source": [
    "import numpy as np   \n",
    "from sklearn.linear_model import LinearRegression\n",
    "import pandas as pd    \n",
    "import matplotlib.pyplot as plt \n",
    "%matplotlib inline \n",
    "import seaborn as sns\n",
    "from sklearn.model_selection import train_test_split # Sklearn package's randomized data splitting function\n"
   ]
  },
  {
   "cell_type": "code",
   "execution_count": null,
   "id": "4d7910ea",
   "metadata": {},
   "outputs": [],
   "source": []
  }
 ],
 "metadata": {
  "kernelspec": {
   "display_name": "Python 3 (ipykernel)",
   "language": "python",
   "name": "python3"
  },
  "language_info": {
   "codemirror_mode": {
    "name": "ipython",
    "version": 3
   },
   "file_extension": ".py",
   "mimetype": "text/x-python",
   "name": "python",
   "nbconvert_exporter": "python",
   "pygments_lexer": "ipython3",
   "version": "3.9.12"
  }
 },
 "nbformat": 4,
 "nbformat_minor": 5
}
